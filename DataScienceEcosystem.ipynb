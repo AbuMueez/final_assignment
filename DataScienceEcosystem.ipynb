{
 "cells": [
  {
   "cell_type": "markdown",
   "id": "48d59aeb",
   "metadata": {},
   "source": [
    "Exercise 2: Data Science Tools and Ecosystem"
   ]
  },
  {
   "cell_type": "markdown",
   "id": "46633dc3",
   "metadata": {},
   "source": [
    "Exercise 3: In this notebook, Data Science Tools and Ecosystem are summarized."
   ]
  },
  {
   "cell_type": "markdown",
   "id": "389297ea",
   "metadata": {},
   "source": [
    "Exercise 4: Some of the popular languages that Data Scientists use are:\n",
    "            1. Python\n",
    "            2. SQL\n",
    "            3. R\n",
    "            4. Julia"
   ]
  },
  {
   "cell_type": "markdown",
   "id": "b73e587a",
   "metadata": {},
   "source": [
    "Exercise 5: Some of the commonly used libraries used by Data Scientists include:\n",
    "            1. Numpy\n",
    "            2. Panda\n",
    "            3. Matplotlib\n",
    "            4. PyTorch          "
   ]
  },
  {
   "cell_type": "markdown",
   "id": "eaa568f9",
   "metadata": {},
   "source": [
    "# Exercise 6: Data Science Tools"
   ]
  },
  {
   "cell_type": "markdown",
   "id": "f207bde2",
   "metadata": {},
   "source": [
    "Exercise 7: Below are a few examples of evaluating arithmetic expressions in Python"
   ]
  },
  {
   "cell_type": "code",
   "execution_count": 3,
   "id": "8713febd",
   "metadata": {},
   "outputs": [
    {
     "data": {
      "text/plain": [
       "17"
      ]
     },
     "execution_count": 3,
     "metadata": {},
     "output_type": "execute_result"
    }
   ],
   "source": [
    "(3*4)+5"
   ]
  },
  {
   "cell_type": "code",
   "execution_count": 5,
   "id": "1ece3eee",
   "metadata": {},
   "outputs": [
    {
     "name": "stdout",
     "output_type": "stream",
     "text": [
      "3.3333333333333335\n"
     ]
    }
   ],
   "source": [
    "# This will convert 200 minutes to hours by dividing by 60\n",
    "minutes = 200\n",
    "hours = minutes / 60\n",
    "print(hours)"
   ]
  },
  {
   "cell_type": "markdown",
   "id": "9b9a1bf9",
   "metadata": {},
   "source": [
    "## Objectives:\n",
    "\n",
    "- List popular languages for Data Science\n",
    "- Highlight commonly used libraries in Data Science\n",
    "- Provide examples of evaluating arithmetic expressions in Python\n",
    "- Demonstrate conversion between minutes and hours\n",
    "- ... (you can add more objectives if needed)"
   ]
  },
  {
   "cell_type": "markdown",
   "id": "5eedcfe2",
   "metadata": {},
   "source": [
    "## Author\n",
    "Yakub"
   ]
  },
  {
   "cell_type": "code",
   "execution_count": null,
   "id": "db7dca49",
   "metadata": {},
   "outputs": [],
   "source": []
  }
 ],
 "metadata": {
  "kernelspec": {
   "display_name": "Python 3 (ipykernel)",
   "language": "python",
   "name": "python3"
  },
  "language_info": {
   "codemirror_mode": {
    "name": "ipython",
    "version": 3
   },
   "file_extension": ".py",
   "mimetype": "text/x-python",
   "name": "python",
   "nbconvert_exporter": "python",
   "pygments_lexer": "ipython3",
   "version": "3.11.4"
  }
 },
 "nbformat": 4,
 "nbformat_minor": 5
}
